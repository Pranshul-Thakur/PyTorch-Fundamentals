{
 "cells": [
  {
   "cell_type": "code",
   "execution_count": 2,
   "id": "7423f4b2-d3fc-4426-a883-a1d223c4c867",
   "metadata": {},
   "outputs": [],
   "source": [
    "import torch"
   ]
  },
  {
   "cell_type": "markdown",
   "id": "63e5ad2d-33b5-4b7e-a25f-9016d9a0b4ac",
   "metadata": {},
   "source": [
    "# Dot product between 2 matrix "
   ]
  },
  {
   "cell_type": "code",
   "execution_count": 66,
   "id": "d7e12069-e27c-421f-9b66-b5866fc8620d",
   "metadata": {},
   "outputs": [],
   "source": [
    "a = torch.tensor([[1,2], [2,4]], dtype = torch.int)\n",
    "b = torch.tensor([1,2], dtype = torch.int)"
   ]
  },
  {
   "cell_type": "code",
   "execution_count": 67,
   "id": "bafcf008-66e8-434f-85e4-20ff9c5046d3",
   "metadata": {},
   "outputs": [],
   "source": [
    "ax = torch.as_tensor(a) # CONVERTING 2D MATRIX AS 1D TENSOR\n",
    "bx = torch.as_tensor(b)"
   ]
  },
  {
   "cell_type": "code",
   "execution_count": 86,
   "id": "eaa3a777-b156-4158-96e1-316b2113eadb",
   "metadata": {},
   "outputs": [
    {
     "name": "stdout",
     "output_type": "stream",
     "text": [
      "tensor([[ 8,  9],\n",
      "        [16, 18]])\n"
     ]
    }
   ],
   "source": [
    "product = a @ b # WE CAN ALSO USE TORCH.MATMUL() FOR THE SAME AS @ AND MATMUL DO THE SAME THING\n",
    "print(product)  # USE TORCH.DOT() IF BOTH TENSOR ARE 1D"
   ]
  },
  {
   "cell_type": "markdown",
   "id": "5fc60558-7dcb-4a44-82a2-1bb9c98a941b",
   "metadata": {},
   "source": [
    "# Scalar Matrix Multiplication"
   ]
  },
  {
   "cell_type": "code",
   "execution_count": 87,
   "id": "00de6ffc-3000-4c7f-aa40-16671faf19e8",
   "metadata": {},
   "outputs": [],
   "source": [
    "a = torch.tensor([[1,2], [3,4]])\n",
    "b = 2"
   ]
  },
  {
   "cell_type": "code",
   "execution_count": 88,
   "id": "3da5d5fa-450a-42a0-8db8-89f8454f2fca",
   "metadata": {},
   "outputs": [
    {
     "name": "stdout",
     "output_type": "stream",
     "text": [
      "tensor([[2, 4],\n",
      "        [6, 8]])\n"
     ]
    }
   ],
   "source": [
    "result = a * b\n",
    "print(result)"
   ]
  },
  {
   "cell_type": "markdown",
   "id": "6ec56eda-d5cf-4226-814f-820abf94cc35",
   "metadata": {},
   "source": [
    "# Calculate Mean by Row or Column"
   ]
  },
  {
   "cell_type": "code",
   "execution_count": 89,
   "id": "e95172be-5bee-4bc6-ad19-0c8eef019e2c",
   "metadata": {},
   "outputs": [],
   "source": [
    "a = torch.tensor([[1,2,3], [4,5,6], [7,8,9]], dtype = float)"
   ]
  },
  {
   "cell_type": "code",
   "execution_count": 90,
   "id": "e361d590-01f5-4c98-8c61-116b31414595",
   "metadata": {},
   "outputs": [],
   "source": [
    "row_mean = a.mean(dim = 1)"
   ]
  },
  {
   "cell_type": "code",
   "execution_count": 91,
   "id": "27c215ea-7c7e-4b75-9abb-d58e3cdb2375",
   "metadata": {},
   "outputs": [],
   "source": [
    "column_mean = a.mean(dim = 0)"
   ]
  },
  {
   "cell_type": "code",
   "execution_count": 92,
   "id": "9a39cba0-9cd8-4d71-932f-37a0a68937b8",
   "metadata": {},
   "outputs": [
    {
     "name": "stdout",
     "output_type": "stream",
     "text": [
      "Row mean : tensor([2., 5., 8.], dtype=torch.float64), Column mean : tensor([4., 5., 6.], dtype=torch.float64)\n"
     ]
    }
   ],
   "source": [
    "print(f\"Row mean : {row_mean}, Column mean : {column_mean}\")"
   ]
  },
  {
   "cell_type": "markdown",
   "id": "153f5f89-feff-49e4-ba4f-482fc8cd8097",
   "metadata": {},
   "source": [
    "# Reshaping matrix"
   ]
  },
  {
   "cell_type": "code",
   "execution_count": 93,
   "id": "67853dbf-bd6d-479e-b8c5-aa1fa3c09ca5",
   "metadata": {},
   "outputs": [],
   "source": [
    "a = torch.tensor([[1,2,3,4],[5,6,7,8]])\n",
    "shape = (-1,8)"
   ]
  },
  {
   "cell_type": "code",
   "execution_count": 94,
   "id": "fc3f4f32-032a-41c7-8501-f767d4e37ac3",
   "metadata": {},
   "outputs": [],
   "source": [
    "newshape = a.reshape(shape)"
   ]
  },
  {
   "cell_type": "code",
   "execution_count": 95,
   "id": "fc658cb3-e4f1-4d9d-9de6-47f64fccb6ac",
   "metadata": {},
   "outputs": [
    {
     "name": "stdout",
     "output_type": "stream",
     "text": [
      "tensor([[1, 2, 3, 4, 5, 6, 7, 8]])\n"
     ]
    }
   ],
   "source": [
    "print(newshape)"
   ]
  },
  {
   "cell_type": "markdown",
   "id": "e93ca150-be26-4332-a9ef-648eafa69c39",
   "metadata": {},
   "source": [
    "# Transpose of a matrix"
   ]
  },
  {
   "cell_type": "code",
   "execution_count": 96,
   "id": "90841d07-251f-432d-8ca4-2866ecbdbc10",
   "metadata": {},
   "outputs": [],
   "source": [
    "a = torch.tensor([[1,2,3],[4,5,6]])"
   ]
  },
  {
   "cell_type": "code",
   "execution_count": 97,
   "id": "cfd0158a-5401-4707-9f25-56091f42499b",
   "metadata": {},
   "outputs": [],
   "source": [
    "transpose = a.t()"
   ]
  },
  {
   "cell_type": "code",
   "execution_count": 98,
   "id": "614d06f0-22c7-4806-8a3f-52fb4e8d1170",
   "metadata": {},
   "outputs": [
    {
     "name": "stdout",
     "output_type": "stream",
     "text": [
      "tensor([[1, 4],\n",
      "        [2, 5],\n",
      "        [3, 6]])\n"
     ]
    }
   ],
   "source": [
    "print(transpose)"
   ]
  },
  {
   "cell_type": "markdown",
   "id": "d29c206f-3093-4bdf-b60e-d78bce7eca63",
   "metadata": {},
   "source": [
    "# Matrix x Matrix"
   ]
  },
  {
   "cell_type": "code",
   "execution_count": 99,
   "id": "d07c9c25-c9f4-4c0c-8e37-9f8ab395a39a",
   "metadata": {},
   "outputs": [],
   "source": [
    "a = torch.tensor([[1,2],[2,4]])\n",
    "b = torch.tensor([[2,1],[3,4]])"
   ]
  },
  {
   "cell_type": "code",
   "execution_count": 83,
   "id": "6a84a632-2e9e-4683-8531-9e45ec130172",
   "metadata": {},
   "outputs": [
    {
     "name": "stdout",
     "output_type": "stream",
     "text": [
      "tensor([[ 8,  9],\n",
      "        [16, 18]])\n"
     ]
    }
   ],
   "source": [
    "product = a @ b\n",
    "print(product)"
   ]
  },
  {
   "cell_type": "markdown",
   "id": "5c7a8d64-b106-4cd4-a3f9-b9f7a22fb1b4",
   "metadata": {},
   "source": [
    "# Calculating eigen values"
   ]
  },
  {
   "cell_type": "code",
   "execution_count": 104,
   "id": "ef69c9bb-4b73-4f10-983e-4a1b23a3394f",
   "metadata": {},
   "outputs": [],
   "source": [
    "a = torch.tensor([[2,1], [1,4]], dtype=torch.float)"
   ]
  },
  {
   "cell_type": "code",
   "execution_count": 110,
   "id": "bf5a255c-10b2-4fc4-becd-a193fca53a4f",
   "metadata": {},
   "outputs": [
    {
     "name": "stdout",
     "output_type": "stream",
     "text": [
      "tensor([1.5858+0.j, 4.4142+0.j]) tensor([[-0.9239+0.j, -0.3827+0.j],\n",
      "        [ 0.3827+0.j, -0.9239+0.j]])\n"
     ]
    }
   ],
   "source": [
    "eigenvalues, eigenvectors = torch.linalg.eig(a)\n",
    "print(eigenvalues, eigenvectors)"
   ]
  },
  {
   "cell_type": "markdown",
   "id": "085ba941-b19f-4a5a-aea1-ab24e57a0b85",
   "metadata": {},
   "source": [
    "# Inverse of 2x2 matrix"
   ]
  },
  {
   "cell_type": "code",
   "execution_count": 115,
   "id": "ad3d1525-2890-48d5-b5fc-8cf414cf67d9",
   "metadata": {},
   "outputs": [],
   "source": [
    "a = torch.tensor([[4, 7], [2, 6]], dtype = float)"
   ]
  },
  {
   "cell_type": "code",
   "execution_count": 116,
   "id": "87f4fa87-b881-4697-bc21-cca3ba6dbd43",
   "metadata": {},
   "outputs": [],
   "source": [
    "inverse = torch.linalg.inv(a)"
   ]
  },
  {
   "cell_type": "code",
   "execution_count": 117,
   "id": "5d1e9fa7-d5d5-4a30-9c83-f554632310fd",
   "metadata": {},
   "outputs": [
    {
     "name": "stdout",
     "output_type": "stream",
     "text": [
      "tensor([[ 0.6000, -0.7000],\n",
      "        [-0.2000,  0.4000]], dtype=torch.float64)\n"
     ]
    }
   ],
   "source": [
    "print(inverse)"
   ]
  },
  {
   "cell_type": "markdown",
   "id": "5de3e1ed-8e56-4f65-9798-1ee33932dd91",
   "metadata": {},
   "source": [
    "# SVD"
   ]
  },
  {
   "cell_type": "raw",
   "id": "a9b03656-485b-401c-803c-a4a081f163ff",
   "metadata": {},
   "source": [
    "A = U (left singular vector) . S (Singluar value) . V^T (right singluar vector)"
   ]
  },
  {
   "cell_type": "code",
   "execution_count": 121,
   "id": "2fb10411-0a6f-4b2d-ac4f-c4557d53ea9c",
   "metadata": {},
   "outputs": [],
   "source": [
    "a = torch.tensor([[2, 1], [1, 2]], dtype = float)"
   ]
  },
  {
   "cell_type": "code",
   "execution_count": 122,
   "id": "34a49852-d3b3-4607-8b64-31ca617bb555",
   "metadata": {},
   "outputs": [],
   "source": [
    "U, S, V = torch.linalg.svd(a)"
   ]
  },
  {
   "cell_type": "code",
   "execution_count": 123,
   "id": "77b40f59-2bd9-46bd-a6bc-1068176a04bd",
   "metadata": {},
   "outputs": [
    {
     "name": "stdout",
     "output_type": "stream",
     "text": [
      "tensor([[-0.7071, -0.7071],\n",
      "        [-0.7071,  0.7071]], dtype=torch.float64)\n",
      "tensor([3.0000, 1.0000], dtype=torch.float64)\n",
      "tensor([[-0.7071, -0.7071],\n",
      "        [-0.7071,  0.7071]], dtype=torch.float64)\n"
     ]
    }
   ],
   "source": [
    "print(U)\n",
    "print(S)\n",
    "print(V)"
   ]
  },
  {
   "cell_type": "code",
   "execution_count": null,
   "id": "9d2edcb6-51f7-49b7-b956-de9bbc3c12e4",
   "metadata": {},
   "outputs": [],
   "source": []
  }
 ],
 "metadata": {
  "kernelspec": {
   "display_name": "Python 3 (ipykernel)",
   "language": "python",
   "name": "python3"
  },
  "language_info": {
   "codemirror_mode": {
    "name": "ipython",
    "version": 3
   },
   "file_extension": ".py",
   "mimetype": "text/x-python",
   "name": "python",
   "nbconvert_exporter": "python",
   "pygments_lexer": "ipython3",
   "version": "3.13.3"
  }
 },
 "nbformat": 4,
 "nbformat_minor": 5
}
