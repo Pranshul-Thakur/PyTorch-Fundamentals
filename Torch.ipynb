{
 "cells": [
  {
   "cell_type": "code",
   "execution_count": 1,
   "id": "7423f4b2-d3fc-4426-a883-a1d223c4c867",
   "metadata": {},
   "outputs": [],
   "source": [
    "import torch"
   ]
  },
  {
   "cell_type": "markdown",
   "id": "63e5ad2d-33b5-4b7e-a25f-9016d9a0b4ac",
   "metadata": {},
   "source": [
    "# Dot product between 2 matrix "
   ]
  },
  {
   "cell_type": "code",
   "execution_count": 2,
   "id": "d7e12069-e27c-421f-9b66-b5866fc8620d",
   "metadata": {},
   "outputs": [],
   "source": [
    "a = torch.tensor([[1,2], [2,4]], dtype = torch.int)\n",
    "b = torch.tensor([1,2], dtype = torch.int)"
   ]
  },
  {
   "cell_type": "code",
   "execution_count": 3,
   "id": "bafcf008-66e8-434f-85e4-20ff9c5046d3",
   "metadata": {},
   "outputs": [],
   "source": [
    "ax = torch.as_tensor(a) # CONVERTING 2D MATRIX AS 1D TENSOR\n",
    "bx = torch.as_tensor(b)"
   ]
  },
  {
   "cell_type": "code",
   "execution_count": 4,
   "id": "eaa3a777-b156-4158-96e1-316b2113eadb",
   "metadata": {},
   "outputs": [
    {
     "name": "stdout",
     "output_type": "stream",
     "text": [
      "tensor([ 5, 10], dtype=torch.int32)\n"
     ]
    }
   ],
   "source": [
    "product = a @ b # WE CAN ALSO USE TORCH.MATMUL() FOR THE SAME AS @ AND MATMUL DO THE SAME THING\n",
    "print(product)  # USE TORCH.DOT() IF BOTH TENSOR ARE 1D"
   ]
  },
  {
   "cell_type": "markdown",
   "id": "5fc60558-7dcb-4a44-82a2-1bb9c98a941b",
   "metadata": {},
   "source": [
    "# Scalar Matrix Multiplication"
   ]
  },
  {
   "cell_type": "code",
   "execution_count": 5,
   "id": "00de6ffc-3000-4c7f-aa40-16671faf19e8",
   "metadata": {},
   "outputs": [],
   "source": [
    "a = torch.tensor([[1,2], [3,4]])\n",
    "b = 2"
   ]
  },
  {
   "cell_type": "code",
   "execution_count": 6,
   "id": "3da5d5fa-450a-42a0-8db8-89f8454f2fca",
   "metadata": {},
   "outputs": [
    {
     "name": "stdout",
     "output_type": "stream",
     "text": [
      "tensor([[2, 4],\n",
      "        [6, 8]])\n"
     ]
    }
   ],
   "source": [
    "result = a * b\n",
    "print(result)"
   ]
  },
  {
   "cell_type": "markdown",
   "id": "6ec56eda-d5cf-4226-814f-820abf94cc35",
   "metadata": {},
   "source": [
    "# Calculate Mean by Row or Column"
   ]
  },
  {
   "cell_type": "code",
   "execution_count": 7,
   "id": "e95172be-5bee-4bc6-ad19-0c8eef019e2c",
   "metadata": {},
   "outputs": [],
   "source": [
    "a = torch.tensor([[1,2,3], [4,5,6], [7,8,9]], dtype = float)"
   ]
  },
  {
   "cell_type": "code",
   "execution_count": 8,
   "id": "e361d590-01f5-4c98-8c61-116b31414595",
   "metadata": {},
   "outputs": [],
   "source": [
    "row_mean = a.mean(dim = 1)"
   ]
  },
  {
   "cell_type": "code",
   "execution_count": 9,
   "id": "27c215ea-7c7e-4b75-9abb-d58e3cdb2375",
   "metadata": {},
   "outputs": [],
   "source": [
    "column_mean = a.mean(dim = 0)"
   ]
  },
  {
   "cell_type": "code",
   "execution_count": 10,
   "id": "9a39cba0-9cd8-4d71-932f-37a0a68937b8",
   "metadata": {},
   "outputs": [
    {
     "name": "stdout",
     "output_type": "stream",
     "text": [
      "Row mean : tensor([2., 5., 8.], dtype=torch.float64), Column mean : tensor([4., 5., 6.], dtype=torch.float64)\n"
     ]
    }
   ],
   "source": [
    "print(f\"Row mean : {row_mean}, Column mean : {column_mean}\")"
   ]
  },
  {
   "cell_type": "markdown",
   "id": "153f5f89-feff-49e4-ba4f-482fc8cd8097",
   "metadata": {},
   "source": [
    "# Reshaping matrix"
   ]
  },
  {
   "cell_type": "code",
   "execution_count": 11,
   "id": "67853dbf-bd6d-479e-b8c5-aa1fa3c09ca5",
   "metadata": {},
   "outputs": [],
   "source": [
    "a = torch.tensor([[1,2,3,4],[5,6,7,8]])\n",
    "shape = (-1,8)"
   ]
  },
  {
   "cell_type": "code",
   "execution_count": 12,
   "id": "fc3f4f32-032a-41c7-8501-f767d4e37ac3",
   "metadata": {},
   "outputs": [],
   "source": [
    "newshape = a.reshape(shape)"
   ]
  },
  {
   "cell_type": "code",
   "execution_count": 13,
   "id": "fc658cb3-e4f1-4d9d-9de6-47f64fccb6ac",
   "metadata": {},
   "outputs": [
    {
     "name": "stdout",
     "output_type": "stream",
     "text": [
      "tensor([[1, 2, 3, 4, 5, 6, 7, 8]])\n"
     ]
    }
   ],
   "source": [
    "print(newshape)"
   ]
  },
  {
   "cell_type": "markdown",
   "id": "e93ca150-be26-4332-a9ef-648eafa69c39",
   "metadata": {},
   "source": [
    "# Transpose of a matrix"
   ]
  },
  {
   "cell_type": "code",
   "execution_count": 14,
   "id": "90841d07-251f-432d-8ca4-2866ecbdbc10",
   "metadata": {},
   "outputs": [],
   "source": [
    "a = torch.tensor([[1,2,3],[4,5,6]])"
   ]
  },
  {
   "cell_type": "code",
   "execution_count": 15,
   "id": "cfd0158a-5401-4707-9f25-56091f42499b",
   "metadata": {},
   "outputs": [],
   "source": [
    "transpose = a.t()"
   ]
  },
  {
   "cell_type": "code",
   "execution_count": 16,
   "id": "614d06f0-22c7-4806-8a3f-52fb4e8d1170",
   "metadata": {},
   "outputs": [
    {
     "name": "stdout",
     "output_type": "stream",
     "text": [
      "tensor([[1, 4],\n",
      "        [2, 5],\n",
      "        [3, 6]])\n"
     ]
    }
   ],
   "source": [
    "print(transpose)"
   ]
  },
  {
   "cell_type": "markdown",
   "id": "d29c206f-3093-4bdf-b60e-d78bce7eca63",
   "metadata": {},
   "source": [
    "# Matrix x Matrix"
   ]
  },
  {
   "cell_type": "code",
   "execution_count": 17,
   "id": "d07c9c25-c9f4-4c0c-8e37-9f8ab395a39a",
   "metadata": {},
   "outputs": [],
   "source": [
    "a = torch.tensor([[1,2],[2,4]])\n",
    "b = torch.tensor([[2,1],[3,4]])"
   ]
  },
  {
   "cell_type": "code",
   "execution_count": 18,
   "id": "6a84a632-2e9e-4683-8531-9e45ec130172",
   "metadata": {},
   "outputs": [
    {
     "name": "stdout",
     "output_type": "stream",
     "text": [
      "tensor([[ 8,  9],\n",
      "        [16, 18]])\n"
     ]
    }
   ],
   "source": [
    "product = a @ b\n",
    "print(product)"
   ]
  },
  {
   "cell_type": "markdown",
   "id": "5c7a8d64-b106-4cd4-a3f9-b9f7a22fb1b4",
   "metadata": {},
   "source": [
    "# Calculating eigen values"
   ]
  },
  {
   "cell_type": "code",
   "execution_count": 19,
   "id": "ef69c9bb-4b73-4f10-983e-4a1b23a3394f",
   "metadata": {},
   "outputs": [],
   "source": [
    "a = torch.tensor([[2,1], [1,4]], dtype=torch.float)"
   ]
  },
  {
   "cell_type": "code",
   "execution_count": 20,
   "id": "bf5a255c-10b2-4fc4-becd-a193fca53a4f",
   "metadata": {},
   "outputs": [
    {
     "name": "stdout",
     "output_type": "stream",
     "text": [
      "tensor([1.5858+0.j, 4.4142+0.j]) tensor([[-0.9239+0.j, -0.3827+0.j],\n",
      "        [ 0.3827+0.j, -0.9239+0.j]])\n"
     ]
    }
   ],
   "source": [
    "eigenvalues, eigenvectors = torch.linalg.eig(a)\n",
    "print(eigenvalues, eigenvectors)"
   ]
  },
  {
   "cell_type": "markdown",
   "id": "085ba941-b19f-4a5a-aea1-ab24e57a0b85",
   "metadata": {},
   "source": [
    "# Inverse of 2x2 matrix"
   ]
  },
  {
   "cell_type": "code",
   "execution_count": 21,
   "id": "ad3d1525-2890-48d5-b5fc-8cf414cf67d9",
   "metadata": {},
   "outputs": [],
   "source": [
    "a = torch.tensor([[4, 7], [2, 6]], dtype = float)"
   ]
  },
  {
   "cell_type": "code",
   "execution_count": 22,
   "id": "87f4fa87-b881-4697-bc21-cca3ba6dbd43",
   "metadata": {},
   "outputs": [],
   "source": [
    "inverse = torch.linalg.inv(a)"
   ]
  },
  {
   "cell_type": "code",
   "execution_count": 23,
   "id": "5d1e9fa7-d5d5-4a30-9c83-f554632310fd",
   "metadata": {},
   "outputs": [
    {
     "name": "stdout",
     "output_type": "stream",
     "text": [
      "tensor([[ 0.6000, -0.7000],\n",
      "        [-0.2000,  0.4000]], dtype=torch.float64)\n"
     ]
    }
   ],
   "source": [
    "print(inverse)"
   ]
  },
  {
   "cell_type": "markdown",
   "id": "5de3e1ed-8e56-4f65-9798-1ee33932dd91",
   "metadata": {},
   "source": [
    "# SVD"
   ]
  },
  {
   "cell_type": "raw",
   "id": "a9b03656-485b-401c-803c-a4a081f163ff",
   "metadata": {},
   "source": [
    "A = U (left singular vector) . S (Singluar value) . V^T (right singluar vector)"
   ]
  },
  {
   "cell_type": "code",
   "execution_count": 24,
   "id": "2fb10411-0a6f-4b2d-ac4f-c4557d53ea9c",
   "metadata": {},
   "outputs": [],
   "source": [
    "a = torch.tensor([[2, 1], [1, 2]], dtype = float)"
   ]
  },
  {
   "cell_type": "code",
   "execution_count": 25,
   "id": "34a49852-d3b3-4607-8b64-31ca617bb555",
   "metadata": {},
   "outputs": [],
   "source": [
    "U, S, V = torch.linalg.svd(a)"
   ]
  },
  {
   "cell_type": "code",
   "execution_count": 26,
   "id": "77b40f59-2bd9-46bd-a6bc-1068176a04bd",
   "metadata": {},
   "outputs": [
    {
     "name": "stdout",
     "output_type": "stream",
     "text": [
      "tensor([[-0.7071, -0.7071],\n",
      "        [-0.7071,  0.7071]], dtype=torch.float64)\n",
      "tensor([3.0000, 1.0000], dtype=torch.float64)\n",
      "tensor([[-0.7071, -0.7071],\n",
      "        [-0.7071,  0.7071]], dtype=torch.float64)\n"
     ]
    }
   ],
   "source": [
    "print(U)\n",
    "print(S)\n",
    "print(V)"
   ]
  },
  {
   "cell_type": "markdown",
   "id": "efbaef4c-d108-40d8-a8c8-1288f3a0a01b",
   "metadata": {},
   "source": [
    "# Determinant of 4x4 matrix"
   ]
  },
  {
   "cell_type": "code",
   "execution_count": 27,
   "id": "6be49cbb-23b4-4dbb-b53f-ed6e3766dd90",
   "metadata": {},
   "outputs": [],
   "source": [
    "A = torch.tensor([[1,2,3,4],[5,6,7,8],[9,10,11,12],[13,14,15,16]])\n",
    "A = A.float()"
   ]
  },
  {
   "cell_type": "code",
   "execution_count": 28,
   "id": "ef90e894-5ea8-4aef-b152-f7dbd04b10be",
   "metadata": {},
   "outputs": [],
   "source": [
    "result = torch.det(A)"
   ]
  },
  {
   "cell_type": "code",
   "execution_count": 29,
   "id": "5cd4cf64-ab90-4348-a0f9-767f9b072b1c",
   "metadata": {},
   "outputs": [
    {
     "name": "stdout",
     "output_type": "stream",
     "text": [
      "tensor(0.)\n"
     ]
    }
   ],
   "source": [
    "print(result) # matrix is singluar"
   ]
  },
  {
   "cell_type": "markdown",
   "id": "c4dd5397-b18c-4af9-9b70-355513b9326e",
   "metadata": {},
   "source": [
    "# SVD using eigenvalues and vectors"
   ]
  },
  {
   "cell_type": "code",
   "execution_count": 30,
   "id": "3efc7e22-6351-4003-a14d-108b87b63032",
   "metadata": {},
   "outputs": [],
   "source": [
    "A = torch.tensor([[-10.0, 8.0], [10.0, -1.0]])\n",
    "A = A.float()"
   ]
  },
  {
   "cell_type": "code",
   "execution_count": 31,
   "id": "35213daf-15df-405c-9c67-b33ea0cde0be",
   "metadata": {},
   "outputs": [],
   "source": [
    "AT = A.T @ A"
   ]
  },
  {
   "cell_type": "code",
   "execution_count": 32,
   "id": "f738002c-57a4-4387-a225-d993cdf64b20",
   "metadata": {},
   "outputs": [],
   "source": [
    "eigenvals, V = torch.linalg.eigh(AT)"
   ]
  },
  {
   "cell_type": "code",
   "execution_count": 33,
   "id": "15b18d63-f412-4a1d-9f86-80c8912c7741",
   "metadata": {},
   "outputs": [],
   "source": [
    "S = torch.sqrt(eigenvals)"
   ]
  },
  {
   "cell_type": "code",
   "execution_count": 34,
   "id": "dbb06dd1-be97-48de-98f2-35e429acbb46",
   "metadata": {},
   "outputs": [],
   "source": [
    "U = A @ V / S\n",
    "# SVD = U @ diag(S) @V.T"
   ]
  },
  {
   "cell_type": "code",
   "execution_count": 35,
   "id": "8e851bc4-1184-45e6-84e8-f8ebccd02eaa",
   "metadata": {},
   "outputs": [
    {
     "name": "stdout",
     "output_type": "stream",
     "text": [
      "tensor([[-0.6000,  0.8000],\n",
      "        [-0.8000, -0.6000]])\n"
     ]
    }
   ],
   "source": [
    "print(U)"
   ]
  },
  {
   "cell_type": "code",
   "execution_count": 36,
   "id": "7778b683-a0e7-494e-8e4c-81af805702b2",
   "metadata": {},
   "outputs": [],
   "source": [
    "U, S, V = torch.linalg.svd(A)"
   ]
  },
  {
   "cell_type": "code",
   "execution_count": 37,
   "id": "ccfd6faa-08c4-45dd-adee-5f290da0ee04",
   "metadata": {},
   "outputs": [
    {
     "name": "stdout",
     "output_type": "stream",
     "text": [
      "tensor([[-0.8000,  0.6000],\n",
      "        [ 0.6000,  0.8000]])\n"
     ]
    }
   ],
   "source": [
    "print(U)"
   ]
  },
  {
   "cell_type": "markdown",
   "id": "e062bca3-b11a-458a-89f4-e98a9e3bbc81",
   "metadata": {},
   "source": [
    "# Convert vector to diagonal matrix"
   ]
  },
  {
   "cell_type": "code",
   "execution_count": 38,
   "id": "6d2a3370-d095-4fac-803c-5a8cf1fcf31b",
   "metadata": {},
   "outputs": [],
   "source": [
    "r = torch.tensor([1, 2, 3])"
   ]
  },
  {
   "cell_type": "code",
   "execution_count": 39,
   "id": "e7b15005-4f2a-4bf2-b59c-24c06c5b1f0c",
   "metadata": {},
   "outputs": [
    {
     "name": "stdout",
     "output_type": "stream",
     "text": [
      "tensor([[1, 0, 0],\n",
      "        [0, 2, 0],\n",
      "        [0, 0, 3]])\n"
     ]
    }
   ],
   "source": [
    "print(torch.diag(r)) # ALWAYS RETURN DIRECTLY INSTEAD OF ASSINGING IT "
   ]
  },
  {
   "cell_type": "markdown",
   "id": "bdfb6f99-5257-4ee4-be3d-bdb620c60ec1",
   "metadata": {},
   "source": [
    "# Transformation matrix from b to c"
   ]
  },
  {
   "cell_type": "code",
   "execution_count": 40,
   "id": "12dc5e14-516a-4876-9af6-c291c7359011",
   "metadata": {},
   "outputs": [],
   "source": [
    "C = torch.tensor([[1, 2.3, 3], [4.4, 25, 6], [7.4, 8, 9]])\n",
    "B = torch.tensor([[1, 0, 0], [0, 1, 0], [0, 0, 1]])"
   ]
  },
  {
   "cell_type": "code",
   "execution_count": 41,
   "id": "624467b8-b6ac-4490-921f-95dc7bc33899",
   "metadata": {},
   "outputs": [],
   "source": [
    "B = B.float()\n",
    "C = C.float()"
   ]
  },
  {
   "cell_type": "code",
   "execution_count": 42,
   "id": "0494e4b1-683d-4cd3-970b-897aa13a96f2",
   "metadata": {},
   "outputs": [
    {
     "name": "stdout",
     "output_type": "stream",
     "text": [
      "tensor([[-0.6772, -0.0126,  0.2342],\n",
      "        [-0.0184,  0.0505, -0.0275],\n",
      "        [ 0.5732, -0.0345, -0.0569]])\n"
     ]
    }
   ],
   "source": [
    "print(torch.linalg.inv(C) @ B) # ITS JUST INV OF C . B"
   ]
  },
  {
   "cell_type": "markdown",
   "id": "5804f15c-597a-4c9c-a60f-5b4693e7db6b",
   "metadata": {},
   "source": [
    "# Calculating Covariance matrix"
   ]
  },
  {
   "cell_type": "code",
   "execution_count": 60,
   "id": "80fc37e3-48d5-443e-b4a5-9180b7fa3ef4",
   "metadata": {},
   "outputs": [],
   "source": [
    "x = torch.tensor([[1.0, 2.0], [3.0, 4.0], [5.0, 6.0]], dtype = torch.float)"
   ]
  },
  {
   "cell_type": "code",
   "execution_count": 63,
   "id": "6c127329-6fd8-41ff-afa0-b77cd1de2511",
   "metadata": {},
   "outputs": [
    {
     "data": {
      "text/plain": [
       "tensor([[4., 4.],\n",
       "        [4., 4.]])"
      ]
     },
     "execution_count": 63,
     "metadata": {},
     "output_type": "execute_result"
    }
   ],
   "source": [
    "torch.cov(x.t())"
   ]
  },
  {
   "cell_type": "markdown",
   "id": "400ff451-6486-42d0-b095-5ec00f474a87",
   "metadata": {},
   "source": [
    "# Rank of a matrix"
   ]
  },
  {
   "cell_type": "code",
   "execution_count": 52,
   "id": "8a427d55-e300-4316-a3a6-59662082fc89",
   "metadata": {},
   "outputs": [],
   "source": [
    "a = torch.tensor([[1,2],[3,4]], dtype = float)"
   ]
  },
  {
   "cell_type": "code",
   "execution_count": 53,
   "id": "9b9eb749-42d0-485e-9835-57edf6cd2b43",
   "metadata": {},
   "outputs": [],
   "source": [
    "rank = torch.linalg.matrix_rank(a)"
   ]
  },
  {
   "cell_type": "code",
   "execution_count": 54,
   "id": "5de89054-3582-4316-9108-e7d09c8ad279",
   "metadata": {},
   "outputs": [
    {
     "name": "stdout",
     "output_type": "stream",
     "text": [
      "tensor(2)\n"
     ]
    }
   ],
   "source": [
    "print(rank)"
   ]
  },
  {
   "cell_type": "markdown",
   "id": "6c6f30d6-5d25-4226-90d1-c3e5e5946987",
   "metadata": {},
   "source": [
    "# Calculating norm of a 2d and 1d vector"
   ]
  },
  {
   "cell_type": "code",
   "execution_count": 57,
   "id": "7ba7b279-99dc-4115-bae2-5ebb69359996",
   "metadata": {},
   "outputs": [],
   "source": [
    "a = torch.tensor([[1,2],[3,4]], dtype = float)\n",
    "b = torch.tensor([1,2,3,4], dtype = float)"
   ]
  },
  {
   "cell_type": "code",
   "execution_count": 58,
   "id": "819d073f-3039-4868-80d9-159c430a854e",
   "metadata": {},
   "outputs": [],
   "source": [
    "an = torch.linalg.norm(a)\n",
    "bn = torch.linalg.norm(b)"
   ]
  },
  {
   "cell_type": "code",
   "execution_count": 59,
   "id": "4a1702b4-d5cf-4897-906a-d759c58412c6",
   "metadata": {},
   "outputs": [
    {
     "name": "stdout",
     "output_type": "stream",
     "text": [
      "tensor(5.4772, dtype=torch.float64) tensor(5.4772, dtype=torch.float64)\n"
     ]
    }
   ],
   "source": [
    "print(an, bn)"
   ]
  }
 ],
 "metadata": {
  "kernelspec": {
   "display_name": "Python 3 (ipykernel)",
   "language": "python",
   "name": "python3"
  },
  "language_info": {
   "codemirror_mode": {
    "name": "ipython",
    "version": 3
   },
   "file_extension": ".py",
   "mimetype": "text/x-python",
   "name": "python",
   "nbconvert_exporter": "python",
   "pygments_lexer": "ipython3",
   "version": "3.13.3"
  }
 },
 "nbformat": 4,
 "nbformat_minor": 5
}
