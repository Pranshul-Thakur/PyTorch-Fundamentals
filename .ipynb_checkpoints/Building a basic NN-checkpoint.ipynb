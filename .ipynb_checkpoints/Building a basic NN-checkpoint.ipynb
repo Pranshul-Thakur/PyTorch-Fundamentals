{
 "cells": [
  {
   "cell_type": "code",
   "execution_count": 2,
   "id": "700776bb-3639-4311-89b9-efea78cf0289",
   "metadata": {},
   "outputs": [],
   "source": [
    "import torch.nn as nn\n",
    "import torch"
   ]
  },
  {
   "cell_type": "code",
   "execution_count": 17,
   "id": "524841b3-88b9-4b76-9d7c-cdb9dcaaccaf",
   "metadata": {},
   "outputs": [],
   "source": [
    "# 2 HIDDEN LAYERS\n",
    "class small(nn.Module): # CREATING A NEW MODEL\n",
    "    def __init__(self):\n",
    "        super(small, self).__init__() # CONNECTING THE MODEL TO PYTORCH SYSTEM\n",
    "        self.fc1 = nn.Linear(784, 124) # FIRST HIDDEN LAYER TAKING INPUT OF SIZE 784 (28 x 28 image) AND TURNING IT INTO 128 FEATURES\n",
    "        self.relu = nn.ReLU() # ACTIVATION FUNCTION ONLY KEES POSITIVE VALUES\n",
    "        self.fc2 = nn.Linear(124, 10) # TAKES 124 FEATURES AND GIVES OUT 10 OUTPUTS\n",
    "\n",
    "    def forward(self, x): # FORWARD PROPOGATION\n",
    "        x = self.fc1(x) # INPUT THROUGH FC1\n",
    "        x = self.relu(x) # INPUT THROUGH ACTIVATION FUNCTION\n",
    "        x = self.fc2(x) # INPUT THROUGH FC2\n",
    "        return x"
   ]
  },
  {
   "cell_type": "code",
   "execution_count": 18,
   "id": "a63e65c8-f595-4b31-b120-84ee6c81608b",
   "metadata": {},
   "outputs": [],
   "source": [
    "model = small()"
   ]
  },
  {
   "cell_type": "code",
   "execution_count": 19,
   "id": "47a6f3a6-1cb4-41c5-9b46-d1e686fb4552",
   "metadata": {},
   "outputs": [],
   "source": [
    "x = torch.randn(1, 784)"
   ]
  },
  {
   "cell_type": "code",
   "execution_count": 20,
   "id": "9514f26c-2dc3-4ba9-83ff-2411efe856cf",
   "metadata": {},
   "outputs": [],
   "source": [
    "output = model(x)"
   ]
  },
  {
   "cell_type": "code",
   "execution_count": 21,
   "id": "6a3fd4c9-b9cd-426a-96e1-af7a606303ba",
   "metadata": {},
   "outputs": [
    {
     "name": "stdout",
     "output_type": "stream",
     "text": [
      "tensor([[-0.0477, -0.0447, -0.4308, -0.2063,  0.2969, -0.2020,  0.2284,  0.2572,\n",
      "          0.0545, -0.0083]], grad_fn=<AddmmBackward0>)\n"
     ]
    }
   ],
   "source": [
    "print(output)"
   ]
  }
 ],
 "metadata": {
  "kernelspec": {
   "display_name": "Python 3 (ipykernel)",
   "language": "python",
   "name": "python3"
  },
  "language_info": {
   "codemirror_mode": {
    "name": "ipython",
    "version": 3
   },
   "file_extension": ".py",
   "mimetype": "text/x-python",
   "name": "python",
   "nbconvert_exporter": "python",
   "pygments_lexer": "ipython3",
   "version": "3.13.3"
  }
 },
 "nbformat": 4,
 "nbformat_minor": 5
}
