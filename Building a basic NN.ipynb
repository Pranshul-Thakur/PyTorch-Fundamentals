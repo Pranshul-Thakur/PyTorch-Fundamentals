{
 "cells": [
  {
   "cell_type": "code",
   "execution_count": 1,
   "id": "700776bb-3639-4311-89b9-efea78cf0289",
   "metadata": {},
   "outputs": [],
   "source": [
    "import torch.nn as nn\n",
    "import torch"
   ]
  },
  {
   "cell_type": "markdown",
   "id": "833a6590-50b4-4e20-bb53-f521850cc49e",
   "metadata": {},
   "source": [
    "# Basic Neural Network"
   ]
  },
  {
   "cell_type": "code",
   "execution_count": 2,
   "id": "524841b3-88b9-4b76-9d7c-cdb9dcaaccaf",
   "metadata": {},
   "outputs": [],
   "source": [
    "# 2 HIDDEN LAYERS\n",
    "class small(nn.Module): # CREATING A NEW MODEL\n",
    "    def __init__(self):\n",
    "        super(small, self).__init__() # CONNECTING THE MODEL TO PYTORCH SYSTEM\n",
    "        self.fc1 = nn.Linear(784, 124) # FIRST HIDDEN LAYER TAKING INPUT OF SIZE 784 (28 x 28 image) AND TURNING IT INTO 128 FEATURES\n",
    "        self.relu = nn.ReLU() # ACTIVATION FUNCTION ONLY KEES POSITIVE VALUES\n",
    "        self.fc2 = nn.Linear(124, 10) # TAKES 124 FEATURES AND GIVES OUT 10 OUTPUTS\n",
    "\n",
    "    def forward(self, x): # FORWARD PROPOGATION\n",
    "        x = self.fc1(x) # INPUT THROUGH FC1\n",
    "        x = self.relu(x) # INPUT THROUGH ACTIVATION FUNCTION\n",
    "        x = self.fc2(x) # INPUT THROUGH FC2\n",
    "        return x"
   ]
  },
  {
   "cell_type": "code",
   "execution_count": 3,
   "id": "a63e65c8-f595-4b31-b120-84ee6c81608b",
   "metadata": {},
   "outputs": [],
   "source": [
    "model = small()"
   ]
  },
  {
   "cell_type": "code",
   "execution_count": 4,
   "id": "47a6f3a6-1cb4-41c5-9b46-d1e686fb4552",
   "metadata": {},
   "outputs": [],
   "source": [
    "x = torch.randn(1, 784)"
   ]
  },
  {
   "cell_type": "code",
   "execution_count": 5,
   "id": "9514f26c-2dc3-4ba9-83ff-2411efe856cf",
   "metadata": {},
   "outputs": [],
   "source": [
    "output = model(x)"
   ]
  },
  {
   "cell_type": "code",
   "execution_count": 6,
   "id": "6a3fd4c9-b9cd-426a-96e1-af7a606303ba",
   "metadata": {},
   "outputs": [
    {
     "name": "stdout",
     "output_type": "stream",
     "text": [
      "tensor([[ 0.0631,  0.5079,  0.2951,  0.3752, -0.1775,  0.0055,  0.1377, -0.2342,\n",
      "         -0.4364, -0.2659]], grad_fn=<AddmmBackward0>)\n"
     ]
    }
   ],
   "source": [
    "print(output)"
   ]
  },
  {
   "cell_type": "markdown",
   "id": "690542a2-5349-483f-b091-968715990daf",
   "metadata": {},
   "source": [
    "# CNN Model"
   ]
  },
  {
   "cell_type": "code",
   "execution_count": 23,
   "id": "122a0b81-d1f9-404d-b8ea-dadf2a39fa5f",
   "metadata": {},
   "outputs": [],
   "source": [
    "class cnn(nn.Module):\n",
    "    def __init__(self):\n",
    "        super(cnn, self).__init__()\n",
    "        self.conv_block = nn.Sequential(\n",
    "        nn.Conv2d(1, 16, kernel_size = 3, padding = 1),\n",
    "        nn.BatchNorm2d(16),\n",
    "        nn.ReLU(),\n",
    "        nn.MaxPool2d(2),\n",
    "        nn.Dropout(0.25)\n",
    "        )\n",
    "\n",
    "        self.classifier = nn.Sequential(\n",
    "            nn.Flatten(),\n",
    "            nn.Linear(16 * 14 * 14, 128),\n",
    "            nn.ReLU(), # ACTIVATION FUNCTION\n",
    "            nn.Dropout(0.5), # RANDOMLY REMOVES NEURONS DURING TRAINING\n",
    "            nn.Linear(128, 10)\n",
    "        )\n",
    "\n",
    "    def forward(self, x):\n",
    "        x = self.conv_block(x)\n",
    "        x = self.classifier(x)\n",
    "        return x"
   ]
  },
  {
   "cell_type": "code",
   "execution_count": 24,
   "id": "ffc4e05c-0fc9-4108-a806-6c27d22e353d",
   "metadata": {},
   "outputs": [],
   "source": [
    "model = cnn()"
   ]
  },
  {
   "cell_type": "code",
   "execution_count": 25,
   "id": "829871cf-e085-45ca-b246-86413a2c01b5",
   "metadata": {},
   "outputs": [],
   "source": [
    "x = torch.randn(1, 1, 28, 28)"
   ]
  },
  {
   "cell_type": "code",
   "execution_count": 26,
   "id": "3430927b-69fb-42fa-9356-769f1d16b459",
   "metadata": {},
   "outputs": [],
   "source": [
    "output = model(x)"
   ]
  },
  {
   "cell_type": "code",
   "execution_count": 27,
   "id": "f989b6e6-fa94-45fe-8ea1-293c2a4b1f8e",
   "metadata": {},
   "outputs": [
    {
     "name": "stdout",
     "output_type": "stream",
     "text": [
      "tensor([[ 0.1597,  0.0249,  0.6267, -0.8400,  0.2484,  0.3693, -0.1124, -0.2806,\n",
      "          0.3250, -0.4956]], grad_fn=<AddmmBackward0>)\n"
     ]
    }
   ],
   "source": [
    "print(output)"
   ]
  },
  {
   "cell_type": "code",
   "execution_count": null,
   "id": "4ab6e8d3-e76a-4dbd-be8a-0cec449f4e8f",
   "metadata": {},
   "outputs": [],
   "source": []
  }
 ],
 "metadata": {
  "kernelspec": {
   "display_name": "Python 3 (ipykernel)",
   "language": "python",
   "name": "python3"
  },
  "language_info": {
   "codemirror_mode": {
    "name": "ipython",
    "version": 3
   },
   "file_extension": ".py",
   "mimetype": "text/x-python",
   "name": "python",
   "nbconvert_exporter": "python",
   "pygments_lexer": "ipython3",
   "version": "3.13.3"
  }
 },
 "nbformat": 4,
 "nbformat_minor": 5
}
